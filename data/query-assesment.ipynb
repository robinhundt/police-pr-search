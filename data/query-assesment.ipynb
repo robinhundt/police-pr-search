{
 "cells": [
  {
   "cell_type": "code",
   "execution_count": 33,
   "metadata": {},
   "outputs": [],
   "source": [
    "from elasticsearch import Elasticsearch\n",
    "from elasticsearch_dsl import Search, Q\n",
    "\n",
    "import json\n",
    "from datetime import timedelta, date, datetime"
   ]
  },
  {
   "cell_type": "code",
   "execution_count": 17,
   "metadata": {},
   "outputs": [],
   "source": [
    "data_file_names = ['grossveranstaltungen', # 'sport-fussball',\n",
    "              'unfaelle', 'demonstrationen',\n",
    "              #'immigration', 'straftaten-anschlaege'\n",
    "                  ]"
   ]
  },
  {
   "cell_type": "code",
   "execution_count": 34,
   "metadata": {},
   "outputs": [],
   "source": [
    "data = {}\n",
    "for name in data_file_names:\n",
    "    with open(f\"{name}.json\") as data_file:\n",
    "        topic_data = json.load(data_file)\n",
    "        data[name] = topic_data"
   ]
  },
  {
   "cell_type": "code",
   "execution_count": 44,
   "metadata": {},
   "outputs": [
    {
     "data": {
      "text/plain": [
       "'<built-in method date of datetime.datetime object at 0x7ff685de25a8>'"
      ]
     },
     "execution_count": 44,
     "metadata": {},
     "output_type": "execute_result"
    }
   ],
   "source": [
    "d= datetime.strptime(data['unfaelle']['data'][0]['articles'][0]['date'], '%Y-%m-%d')\n",
    "str(d.date)"
   ]
  },
  {
   "cell_type": "code",
   "execution_count": 5,
   "metadata": {},
   "outputs": [],
   "source": [
    "client = Elasticsearch(hosts='robin-in.space')"
   ]
  },
  {
   "cell_type": "code",
   "execution_count": null,
   "metadata": {},
   "outputs": [],
   "source": [
    "class ArticleQueryBuilder():\n",
    "    def __init__(self, article):\n",
    "        self.article = article\n",
    "\n",
    "    def simple_and_query(self):\n",
    "        Q(\"match\", title=article['title']) & Q(\"match\", body=article['body'])\n",
    "    \n",
    "    def date_filtered_query(self, before=None, after=None):\n",
    "        if before is None:\n",
    "            before = datetime.timedelta()"
   ]
  },
  {
   "cell_type": "code",
   "execution_count": null,
   "metadata": {},
   "outputs": [],
   "source": []
  }
 ],
 "metadata": {
  "kernelspec": {
   "display_name": "police-pr-search",
   "language": "python",
   "name": "police-pr-search"
  },
  "language_info": {
   "codemirror_mode": {
    "name": "ipython",
    "version": 3
   },
   "file_extension": ".py",
   "mimetype": "text/x-python",
   "name": "python",
   "nbconvert_exporter": "python",
   "pygments_lexer": "ipython3",
   "version": "3.6.2"
  }
 },
 "nbformat": 4,
 "nbformat_minor": 2
}
